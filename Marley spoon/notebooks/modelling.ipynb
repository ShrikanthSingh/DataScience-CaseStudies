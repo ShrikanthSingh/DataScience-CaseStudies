{
 "cells": [
  {
   "cell_type": "code",
   "execution_count": 1,
   "metadata": {},
   "outputs": [],
   "source": [
    "import datetime\n",
    "import lightgbm\n",
    "import numpy as np\n",
    "import pandas as pd\n",
    "from joblib import dump\n",
    "from cucco import Cucco\n",
    "from pylab import rcParams\n",
    "import matplotlib.pyplot as plt\n",
    "from sklearn.pipeline import Pipeline\n",
    "from sklearn.feature_extraction import text\n",
    "from category_encoders import OrdinalEncoder\n",
    "from sklearn.compose import ColumnTransformer\n",
    "from sklearn.preprocessing import MinMaxScaler\n",
    "from sklearn.metrics import mean_squared_error\n",
    "from sklearn.feature_extraction.text import TfidfVectorizer\n",
    "\n",
    "stop_words = text.ENGLISH_STOP_WORDS.union([\"incl\"])\n",
    "cucco = Cucco()\n",
    "normalizations = [\n",
    "    ('replace_punctuation', {'replacement': ' '}),\n",
    "    ('replace_hyphens', {'replacement': ' '}),\n",
    "    ('replace_symbols', {'replacement': ' '}),\n",
    "    'remove_stop_words',\n",
    "    'remove_extra_white_spaces'\n",
    "]\n",
    "\n"
   ]
  },
  {
   "cell_type": "code",
   "execution_count": 2,
   "metadata": {},
   "outputs": [],
   "source": [
    "df_train_clean = pd.read_csv('../data/train_data_cleaned.csv')\n",
    "df_test_clean = pd.read_csv('../data/test_data_cleaned.csv')"
   ]
  },
  {
   "cell_type": "code",
   "execution_count": 3,
   "metadata": {},
   "outputs": [],
   "source": [
    "df_train_clean['recipe_name'] = df_train_clean['recipe_name'].apply(lambda x: cucco.normalize(x, normalizations).lower())\n",
    "df_test_clean['recipe_name'] = df_test_clean['recipe_name'].apply(lambda x: cucco.normalize(x, normalizations).lower())\n",
    "\n",
    "df_train_clean.description = df_train_clean.description.fillna('')\n",
    "df_test_clean.description = df_test_clean.description.fillna('')\n",
    "\n",
    "df_train_clean['description'] = df_train_clean['description'].apply(lambda x: cucco.normalize(x, normalizations).lower())\n",
    "df_test_clean['description'] = df_test_clean['description'].apply(lambda x: cucco.normalize(x, normalizations).lower())\n",
    "\n",
    "df_train_clean = df_train_clean.drop(columns=['difficulty', 'protein_types'])\n",
    "df_test_clean = df_test_clean.drop(columns=['difficulty', 'protein_types'])"
   ]
  },
  {
   "cell_type": "code",
   "execution_count": 4,
   "metadata": {},
   "outputs": [],
   "source": [
    "CATEGORICAL_FEATURES = [\n",
    "    \"product_type\",\n",
    "    \"dish_type\",\n",
    "    \"protein_cuts\",\n",
    "    \"heat_level\",\n",
    "    #\"difficulty\",\n",
    "    \"preferences\",\n",
    "]\n",
    "NUMERICAL_FEATURES = [\n",
    "    \"proteins\",\n",
    "    \"number_of_ingredients_per_recipe\",\n",
    "    \"fat\",\n",
    "    \"carbs\",\n",
    "    \"calories\",\n",
    "    \"n_products\",\n",
    "]\n",
    "TEXT_FEATURES = [\n",
    "    \"recipe_name\",\n",
    "]\n",
    "TAGS_FEATURES = [\n",
    "    \"meta_tags\",\n",
    "    \"carbs_content\",\n",
    "    \"dish_types\",\n",
    "]\n",
    "\n",
    "CATEGORICAL_FEATURES = CATEGORICAL_FEATURES + ['cuisine', 'cooking_time'] "
   ]
  },
  {
   "cell_type": "code",
   "execution_count": 5,
   "metadata": {},
   "outputs": [],
   "source": [
    "def rmse(y_true, y_pred):\n",
    "    return np.sqrt(mean_squared_error(y_true, y_pred))\n",
    "\n",
    "\n",
    "def estimate_sample_weights(df, n):\n",
    "    return ((df.week_day - df.week_day.min()).dt.days + 1) ** n\n",
    "\n",
    "\n",
    "def add_date(df):\n",
    "    df[\"week_day\"] = df.year_week.apply(\n",
    "    lambda year_week: datetime.datetime.strptime(str(year_week) + \"-1\", \"%G%V-%u\")\n",
    "    )\n",
    "\n",
    "    df[TAGS_FEATURES + [\"dish_type\"]] = df[TAGS_FEATURES + [\"dish_type\"]].fillna(\"unk\")\n",
    "    df = df.merge(\n",
    "        (df\n",
    "            .groupby(\"year_week\")\n",
    "            .agg({\"recipe_id\": \"count\"})\n",
    "            .rename(columns={\"recipe_id\": \"n_products\"})\n",
    "        ),\n",
    "        how=\"left\",\n",
    "        left_on=\"year_week\",\n",
    "        right_index=True,\n",
    "    )\n",
    "\n",
    "    weekdays = sorted(df[\"week_day\"].unique())\n",
    "    assert len(np.unique(np.diff(weekdays))) == 1\n",
    "\n",
    "    return df"
   ]
  },
  {
   "cell_type": "code",
   "execution_count": 6,
   "metadata": {},
   "outputs": [],
   "source": [
    "model = Pipeline([\n",
    "    (\"feature_preprocessor\", ColumnTransformer([\n",
    "        (\"categorical\", OrdinalEncoder(handle_missing=\"return_nan\"), CATEGORICAL_FEATURES),\n",
    "        (\"numerical\", MinMaxScaler(), NUMERICAL_FEATURES),\n",
    "\n",
    "        (\"recipe_name_tfidf\", TfidfVectorizer(min_df=20), \n",
    "                                              \"recipe_name\"),\n",
    "        (\"description_tfidf\", TfidfVectorizer(min_df=20, \n",
    "                                              stop_words=stop_words, \n",
    "                                              ngram_range=(1,2)), \n",
    "                                              \"description\"),\n",
    "\n",
    "        (\"meta_tags_tfidf\", TfidfVectorizer(min_df=20, \n",
    "                                            token_pattern='[^,\\s]+', \n",
    "                                            stop_words=stop_words, \n",
    "                                            ngram_range=(1,2)), \n",
    "                                            \"meta_tags\"),\n",
    "\n",
    "        (\"carbs_content_tfidf\", TfidfVectorizer(min_df=20, \n",
    "                                                token_pattern='[^_\\s]+', \n",
    "                                                stop_words=stop_words, \n",
    "                                                ngram_range=(1,2)), \n",
    "                                                \"carbs_content\"),\n",
    "    ])),\n",
    "    \n",
    "    (\"regressor\", lightgbm.LGBMRegressor(\n",
    "        n_estimators=50,\n",
    "        objective=\"regression\",\n",
    "        num_leaves=10,\n",
    "        max_depth=4,\n",
    "        min_child_samples=60,\n",
    "        learning_rate=0.09,\n",
    "        colsample_bytree=0.6,\n",
    "        verbosity=-1,\n",
    "        extra_trees=True,\n",
    "        metric=\"rmse\"\n",
    "    )),\n",
    "])"
   ]
  },
  {
   "cell_type": "code",
   "execution_count": 7,
   "metadata": {},
   "outputs": [],
   "source": [
    "df_train_clean = add_date(df_train_clean)\n",
    "df_test_clean = add_date(df_test_clean)"
   ]
  },
  {
   "cell_type": "code",
   "execution_count": 8,
   "metadata": {},
   "outputs": [
    {
     "name": "stdout",
     "output_type": "stream",
     "text": [
      "Running CV on fold 1 / 5\n",
      "  Running validation on weeks 201940 - 201944\n",
      "  Number of training samples: 2737\n",
      "  Number of validation samples: 202\n",
      "  Training the model...\n",
      "  RMSE: 2978.66\n",
      "Running CV on fold 2 / 5\n",
      "  Running validation on weeks 201935 - 201939\n",
      "  Number of training samples: 2531\n",
      "  Number of validation samples: 206\n",
      "  Training the model...\n",
      "  RMSE: 3147.92\n",
      "Running CV on fold 3 / 5\n",
      "  Running validation on weeks 201930 - 201934\n",
      "  Number of training samples: 2331\n",
      "  Number of validation samples: 200\n",
      "  Training the model...\n",
      "  RMSE: 2857.22\n",
      "Running CV on fold 4 / 5\n",
      "  Running validation on weeks 201925 - 201929\n",
      "  Number of training samples: 2131\n",
      "  Number of validation samples: 200\n",
      "  Training the model...\n",
      "  RMSE: 3154.87\n",
      "Running CV on fold 5 / 5\n",
      "  Running validation on weeks 201920 - 201924\n",
      "  Number of training samples: 1931\n",
      "  Number of validation samples: 200\n",
      "  Training the model...\n",
      "  RMSE: 3335.56\n",
      "Average RMSE accross 5 folds: 3094.84\n"
     ]
    }
   ],
   "source": [
    "year_weeks = sorted(df_train_clean.year_week.unique())\n",
    "\n",
    "errors = []\n",
    "n_folds = 5\n",
    "n_of_weeks_to_predict = 5\n",
    "\n",
    "for fold in range(n_folds):\n",
    "    print(f\"Running CV on fold {fold + 1} / {n_folds}\")\n",
    "    week_start = year_weeks[-(fold + 1) * n_of_weeks_to_predict]\n",
    "    week_end = year_weeks[-fold * n_of_weeks_to_predict - 1]\n",
    "\n",
    "    print(f\"  Running validation on weeks {week_start} - {week_end}\")\n",
    "\n",
    "    df_train = df_train_clean[df_train_clean.year_week < week_start]\n",
    "    df_val = df_train_clean[(df_train_clean.year_week >= week_start) & (df_train_clean.year_week <= week_end)]\n",
    "\n",
    "    print(f\"  Number of training samples: {len(df_train)}\")\n",
    "    print(f\"  Number of validation samples: {len(df_val)}\")\n",
    "\n",
    "    assert len(df_val.year_week.unique()) == n_of_weeks_to_predict\n",
    "\n",
    "    df_train_features = df_train.drop(columns=['sales'])\n",
    "    df_val_features = df_val.drop(columns=['sales'])\n",
    "\n",
    "    print(\"  Training the model...\")\n",
    "    model.fit(df_train_features, df_train.sales, regressor__sample_weight=estimate_sample_weights(df_train_features, 4))\n",
    "    y_predicted = np.clip(model.predict(df_val_features), 0, np.inf).astype(int)\n",
    "    error = rmse(df_val.sales, y_predicted)\n",
    "\n",
    "    print(f\"  RMSE: {error:.2f}\")\n",
    "    errors.append(error)\n",
    "\n",
    "print(f\"Average RMSE accross {n_folds} folds: {np.mean(errors):.2f}\")"
   ]
  },
  {
   "cell_type": "code",
   "execution_count": 9,
   "metadata": {},
   "outputs": [
    {
     "name": "stdout",
     "output_type": "stream",
     "text": [
      "Training the model on all training data...\n",
      "Saving trained production model...\n",
      "Saved\n"
     ]
    }
   ],
   "source": [
    "print(\"Training the model on all training data...\")\n",
    "df_train_features = df_train_clean.drop(columns=['sales'])\n",
    "model.fit(df_train_features, df_train_clean.sales, regressor__sample_weight=estimate_sample_weights(df_train_features, 4))\n",
    "\n",
    "print(\"Saving trained production model...\")\n",
    "dump(model, '../model/model')\n",
    "print(f\"Saved\")"
   ]
  },
  {
   "cell_type": "code",
   "execution_count": 10,
   "metadata": {},
   "outputs": [
    {
     "name": "stdout",
     "output_type": "stream",
     "text": [
      "Generating predictions for the test data...\n",
      "Saved predictions\n"
     ]
    }
   ],
   "source": [
    "print(\"Generating predictions for the test data...\")\n",
    "df_test_clean = df_test_clean.drop(columns=['sales'])\n",
    "y_predicted = np.clip(model.predict(df_test_clean), 0, np.inf).astype(int)\n",
    "df_test_results = pd.DataFrame({\n",
    "    \"recipe_id\": df_test_clean.recipe_id,\n",
    "    \"year_week\": df_test_clean.year_week,\n",
    "    \"predicted_sales\": y_predicted,\n",
    "})\n",
    "df_test_results.to_csv('../data/results.csv', index=None)\n",
    "print(f\"Saved predictions\")"
   ]
  },
  {
   "cell_type": "code",
   "execution_count": 11,
   "metadata": {},
   "outputs": [
    {
     "data": {
      "text/plain": [
       "<matplotlib.legend.Legend at 0x1d5528bb8b0>"
      ]
     },
     "execution_count": 11,
     "metadata": {},
     "output_type": "execute_result"
    },
    {
     "data": {
      "image/png": "[encoded data removed]",
      "text/plain": [
       "<Figure size 1440x504 with 1 Axes>"
      ]
     },
     "metadata": {
      "needs_background": "light"
     },
     "output_type": "display_data"
    }
   ],
   "source": [
    "test_data = pd.read_csv('../data/results.csv')\n",
    "rcParams['figure.figsize'] = 20, 7\n",
    "axis = df_train_clean.groupby([\"year_week\"]).sales.mean().plot()\n",
    "test_data.groupby([\"year_week\"]).predicted_sales.mean().plot(ax=axis)\n",
    "plt.legend(['Train data', 'Predicted data'])"
   ]
  },
  {
   "cell_type": "code",
   "execution_count": null,
   "metadata": {},
   "outputs": [],
   "source": []
  }
 ],
 "metadata": {
  "interpreter": {
   "hash": "b3ba2566441a7c06988d0923437866b63cedc61552a5af99d1f4fb67d367b25f"
  },
  "kernelspec": {
   "display_name": "Python 3.8.3 64-bit ('base': conda)",
   "language": "python",
   "name": "python3"
  },
  "language_info": {
   "codemirror_mode": {
    "name": "ipython",
    "version": 3
   },
   "file_extension": ".py",
   "mimetype": "text/x-python",
   "name": "python",
   "nbconvert_exporter": "python",
   "pygments_lexer": "ipython3",
   "version": "3.8.3"
  },
  "orig_nbformat": 4
 },
 "nbformat": 4,
 "nbformat_minor": 2
}
